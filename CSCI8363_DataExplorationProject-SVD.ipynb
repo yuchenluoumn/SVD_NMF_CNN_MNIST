{
 "cells": [
  {
   "cell_type": "code",
   "execution_count": 1,
   "metadata": {
    "scrolled": true
   },
   "outputs": [
    {
     "name": "stdout",
     "output_type": "stream",
     "text": [
      "D:\\CSCI8363-Fall2017\\project idea\\svd-cnn\n"
     ]
    }
   ],
   "source": [
    "# first change the directory\n",
    "import os\n",
    "\n",
    "def createFolder(directory):\n",
    "    try:\n",
    "        if not os.path.exists(directory):\n",
    "            os.makedirs(directory)\n",
    "    except OSError:\n",
    "        print ('Error: Creating directory. ' +  directory)\n",
    "\n",
    "\n",
    "path = \"D:\\CSCI8363-Fall2017\\project idea\\svd-cnn\"\n",
    "createFolder(path)\n",
    "os.chdir(path)\n",
    "cwd = os.getcwd()\n",
    "print(cwd)"
   ]
  },
  {
   "cell_type": "code",
   "execution_count": 2,
   "metadata": {},
   "outputs": [],
   "source": [
    "import csv\n",
    "import numpy as np\n",
    "U0 = np.loadtxt(open(\"SVD_U0.csv\", \"rb\"), delimiter=\",\", skiprows=0)\n",
    "U1 = np.loadtxt(open(\"SVD_U1.csv\", \"rb\"), delimiter=\",\", skiprows=0)\n",
    "U2 = np.loadtxt(open(\"SVD_U2.csv\", \"rb\"), delimiter=\",\", skiprows=0)\n",
    "U3 = np.loadtxt(open(\"SVD_U3.csv\", \"rb\"), delimiter=\",\", skiprows=0)\n",
    "U4 = np.loadtxt(open(\"SVD_U4.csv\", \"rb\"), delimiter=\",\", skiprows=0)\n",
    "U5 = np.loadtxt(open(\"SVD_U5.csv\", \"rb\"), delimiter=\",\", skiprows=0)\n",
    "U6 = np.loadtxt(open(\"SVD_U6.csv\", \"rb\"), delimiter=\",\", skiprows=0)\n",
    "U7 = np.loadtxt(open(\"SVD_U7.csv\", \"rb\"), delimiter=\",\", skiprows=0)\n",
    "U8 = np.loadtxt(open(\"SVD_U8.csv\", \"rb\"), delimiter=\",\", skiprows=0)\n",
    "U9 = np.loadtxt(open(\"SVD_U9.csv\", \"rb\"), delimiter=\",\", skiprows=0)"
   ]
  },
  {
   "cell_type": "code",
   "execution_count": 3,
   "metadata": {},
   "outputs": [
    {
     "data": {
      "text/plain": [
       "(784L, 784L)"
      ]
     },
     "execution_count": 3,
     "metadata": {},
     "output_type": "execute_result"
    }
   ],
   "source": [
    "U9.shape"
   ]
  },
  {
   "cell_type": "code",
   "execution_count": 4,
   "metadata": {},
   "outputs": [],
   "source": [
    "r = 10\n",
    "U0_reduce = U0[:,0:r]\n",
    "U0_new = np.dot(U0_reduce,np.transpose(U0_reduce))\n",
    "U1_reduce = U1[:,0:r]\n",
    "U1_new = np.dot(U1_reduce,np.transpose(U1_reduce))\n",
    "U2_reduce = U2[:,0:r]\n",
    "U2_new = np.dot(U2_reduce,np.transpose(U2_reduce))\n",
    "U3_reduce = U3[:,0:r]\n",
    "U3_new = np.dot(U3_reduce,np.transpose(U3_reduce))\n",
    "U4_reduce = U4[:,0:r]\n",
    "U4_new = np.dot(U4_reduce,np.transpose(U4_reduce))\n",
    "U5_reduce = U5[:,0:r]\n",
    "U5_new = np.dot(U5_reduce,np.transpose(U5_reduce))\n",
    "U6_reduce = U6[:,0:r]\n",
    "U6_new = np.dot(U6_reduce,np.transpose(U6_reduce))\n",
    "U7_reduce = U7[:,0:r]\n",
    "U7_new = np.dot(U7_reduce,np.transpose(U7_reduce))\n",
    "U8_reduce = U8[:,0:r]\n",
    "U8_new = np.dot(U8_reduce,np.transpose(U8_reduce))\n",
    "U9_reduce = U9[:,0:r]\n",
    "U9_new = np.dot(U9_reduce,np.transpose(U9_reduce))\n",
    "U_assembly = np.zeros((784,784,10)) # Make a 10 by 20 by 30 array\n",
    "U_assembly[:,:,0] = U0_new\n",
    "U_assembly[:,:,1] = U1_new\n",
    "U_assembly[:,:,2] = U2_new\n",
    "U_assembly[:,:,3] = U3_new\n",
    "U_assembly[:,:,4] = U4_new\n",
    "U_assembly[:,:,5] = U5_new\n",
    "U_assembly[:,:,6] = U6_new\n",
    "U_assembly[:,:,7] = U7_new\n",
    "U_assembly[:,:,8] = U8_new\n",
    "U_assembly[:,:,9] = U9_new"
   ]
  },
  {
   "cell_type": "markdown",
   "metadata": {},
   "source": [
    "# loop over all the test set to predict the class of each image"
   ]
  },
  {
   "cell_type": "code",
   "execution_count": 5,
   "metadata": {},
   "outputs": [],
   "source": [
    "def test(testmatrix,testvector):\n",
    "    # rawmatrix is the training set, image\n",
    "    # rawvecotr is the training label\n",
    "    a = testvector.shape\n",
    "    #print(a)\n",
    "    b = np.zeros(a[0])\n",
    "    #form matrix for digit zero\n",
    "    for l in range(a[0]):\n",
    "        temp = testmatrix[l,:]\n",
    "        minrho = np.dot(U_assembly[:,:,0],temp) - temp\n",
    "        minrho = np.linalg.norm(minrho)\n",
    "        flag = -1\n",
    "        for l1 in range(10):\n",
    "            #print(l1)\n",
    "            rho = np.dot(U_assembly[:,:,l1],temp) - temp\n",
    "            rho = np.linalg.norm(rho)\n",
    "            if rho <= minrho:\n",
    "                minrho = rho\n",
    "                flag = l1\n",
    "        b[l]= flag # this the predicted number \n",
    "    error = np.linalg.norm(b-testvector)\n",
    "    return b,error"
   ]
  },
  {
   "cell_type": "code",
   "execution_count": 7,
   "metadata": {},
   "outputs": [],
   "source": [
    "mytest = np.loadtxt(open(\"mytest.csv\", \"rb\"), delimiter=\",\", skiprows=0)\n",
    "mytest_label = np.loadtxt(open(\"mytest_label.csv\", \"rb\"), delimiter=\",\", skiprows=0)\n",
    "predict_flag,error = test(mytest,mytest_label)"
   ]
  },
  {
   "cell_type": "code",
   "execution_count": 8,
   "metadata": {},
   "outputs": [
    {
     "data": {
      "text/plain": [
       "array([ 7.,  2.,  1., ...,  4.,  5.,  6.])"
      ]
     },
     "execution_count": 8,
     "metadata": {},
     "output_type": "execute_result"
    }
   ],
   "source": [
    "mytest_label"
   ]
  },
  {
   "cell_type": "code",
   "execution_count": 9,
   "metadata": {},
   "outputs": [
    {
     "data": {
      "text/plain": [
       "array([ 7.,  2.,  1., ...,  4.,  5.,  6.])"
      ]
     },
     "execution_count": 9,
     "metadata": {},
     "output_type": "execute_result"
    }
   ],
   "source": [
    "predict_flag"
   ]
  },
  {
   "cell_type": "code",
   "execution_count": 10,
   "metadata": {},
   "outputs": [],
   "source": [
    "c = mytest_label - predict_flag"
   ]
  },
  {
   "cell_type": "code",
   "execution_count": 11,
   "metadata": {},
   "outputs": [
    {
     "name": "stdout",
     "output_type": "stream",
     "text": [
      "[ 0.  0.  0. ...,  0.  0.  0.]\n"
     ]
    }
   ],
   "source": [
    "print (c)"
   ]
  },
  {
   "cell_type": "code",
   "execution_count": 12,
   "metadata": {},
   "outputs": [],
   "source": [
    "np.savetxt(\"prediction_flag.csv\", predict_flag, delimiter=\",\")\n",
    "for l2 in range(10000):\n",
    "    #print(c[l2])\n",
    "    if c[l2]!=0:\n",
    "        c[l2] = 1\n",
    "error_rate = np.sum(c)"
   ]
  },
  {
   "cell_type": "code",
   "execution_count": 13,
   "metadata": {},
   "outputs": [
    {
     "data": {
      "text/plain": [
       "94.849999999999994"
      ]
     },
     "execution_count": 13,
     "metadata": {},
     "output_type": "execute_result"
    }
   ],
   "source": [
    "(1-error_rate/10000)*100"
   ]
  },
  {
   "cell_type": "code",
   "execution_count": null,
   "metadata": {},
   "outputs": [],
   "source": []
  }
 ],
 "metadata": {
  "kernelspec": {
   "display_name": "Python 2",
   "language": "python",
   "name": "python2"
  },
  "language_info": {
   "codemirror_mode": {
    "name": "ipython",
    "version": 2
   },
   "file_extension": ".py",
   "mimetype": "text/x-python",
   "name": "python",
   "nbconvert_exporter": "python",
   "pygments_lexer": "ipython2",
   "version": "2.7.15"
  }
 },
 "nbformat": 4,
 "nbformat_minor": 2
}
