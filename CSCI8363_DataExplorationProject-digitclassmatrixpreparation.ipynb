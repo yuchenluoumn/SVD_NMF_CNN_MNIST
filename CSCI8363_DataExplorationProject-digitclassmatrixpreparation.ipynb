{
 "cells": [
  {
   "cell_type": "code",
   "execution_count": 1,
   "metadata": {},
   "outputs": [],
   "source": [
    "import os\n",
    "def createFolder(directory):\n",
    "    try:\n",
    "        if not os.path.exists(directory):\n",
    "            os.makedirs(directory)\n",
    "    except OSError:\n",
    "        print ('Error: Creating directory. ' +  directory)\n",
    "        \n",
    "path = \"D:\\CSCI8363-Fall2017\\project idea\\python-mnist\"\n",
    "createFolder(path)"
   ]
  },
  {
   "cell_type": "code",
   "execution_count": 5,
   "metadata": {
    "scrolled": true
   },
   "outputs": [
    {
     "name": "stdout",
     "output_type": "stream",
     "text": [
      "D:\\CSCI8363-Fall2017\\project idea\\python-mnist\n"
     ]
    }
   ],
   "source": [
    "os.chdir(path)\n",
    "cwd = os.getcwd()\n",
    "print(cwd)"
   ]
  },
  {
   "cell_type": "code",
   "execution_count": 12,
   "metadata": {},
   "outputs": [],
   "source": [
    "# just to check if no such folder exist, create a folder \n",
    "if not os.path.exists(\"./raw_data\"):\n",
    "    os.makedirs(\"raw_data\")\n",
    "from mnist import MNIST\n",
    "mndata = MNIST('./raw_data')"
   ]
  },
  {
   "cell_type": "code",
   "execution_count": 13,
   "metadata": {},
   "outputs": [],
   "source": [
    "images_train, labels_train = mndata.load_training()\n",
    "images_test, labels_test = mndata.load_testing()"
   ]
  },
  {
   "cell_type": "code",
   "execution_count": 15,
   "metadata": {},
   "outputs": [],
   "source": [
    "import numpy as np\n",
    "mytrain = np.asarray(images_train)\n",
    "mytrain_label = np.asarray(labels_train)\n",
    "mytest = np.asanyarray(images_test)\n",
    "mytest_label = np.asanyarray(labels_test)"
   ]
  },
  {
   "cell_type": "code",
   "execution_count": 16,
   "metadata": {},
   "outputs": [],
   "source": [
    "np.savetxt(\"mytrain.csv\", mytrain, delimiter=\",\")\n",
    "np.savetxt(\"mytrain_label.csv\", mytrain_label, delimiter=\",\")\n",
    "np.savetxt(\"mytest.csv\", mytest, delimiter=\",\")\n",
    "np.savetxt(\"mytest_label.csv\", mytest_label, delimiter=\",\")"
   ]
  },
  {
   "cell_type": "code",
   "execution_count": 17,
   "metadata": {},
   "outputs": [
    {
     "name": "stdout",
     "output_type": "stream",
     "text": [
      "('traning set size is', (60000L, 784L))\n",
      "('training label size is', (60000L,))\n",
      "('testing set size is', (10000L, 784L))\n",
      "('testing label size is', (10000L,))\n"
     ]
    },
    {
     "data": {
      "text/plain": [
       "166"
      ]
     },
     "execution_count": 17,
     "metadata": {},
     "output_type": "execute_result"
    }
   ],
   "source": [
    "print(\"traning set size is\", mytrain.shape)\n",
    "print(\"training label size is\",mytrain_label.shape)\n",
    "print(\"testing set size is\",mytest.shape)\n",
    "print(\"testing label size is\", mytest_label.shape)\n",
    "a= mytrain_label.shape\n",
    "mytrain[5000,580]\n",
    "#a[0]"
   ]
  },
  {
   "cell_type": "code",
   "execution_count": 18,
   "metadata": {},
   "outputs": [
    {
     "data": {
      "image/png": "[encoded data removed]",
      "text/plain": [
       "<Figure size 432x288 with 1 Axes>"
      ]
     },
     "metadata": {},
     "output_type": "display_data"
    }
   ],
   "source": [
    "# try to show an example of the training data\n",
    "a = mytrain[1,:]\n",
    "a = np.reshape(a, (28, 28)) \n",
    "%matplotlib inline\n",
    "from matplotlib import pyplot as plt\n",
    "plt.imshow(a, cmap='gray', interpolation='nearest');\n",
    "plt.savefig('mnist-zero',bbox_inches='tight')"
   ]
  },
  {
   "cell_type": "markdown",
   "metadata": {},
   "source": [
    "# define a python function \n",
    "to format the image of each digit into seperate matrix, D0, D1,D2,...,Dn"
   ]
  },
  {
   "cell_type": "code",
   "execution_count": 19,
   "metadata": {},
   "outputs": [],
   "source": [
    "def digitalmatrix(label,rawmatrix,rawvector):\n",
    "    # rawmatrix is the training set, image\n",
    "    # rawvecotr is the training label\n",
    "    D = []\n",
    "    a = rawvector.shape\n",
    "    #form matrix for digit zero\n",
    "    for l in range(a[0]):\n",
    "        if rawvector[l]== label:\n",
    "            D.append(l)\n",
    "    D_array = np.asarray(D)\n",
    "    b = D_array.shape\n",
    "    # hard coded here change later\n",
    "    D_matrix = np.zeros((b[0],784))\n",
    "    #print (\"the number of digit zero is\", b[0])\n",
    "    for l1 in range(b[0]):\n",
    "        D_matrix[l1,:]= rawmatrix[D_array[l1],:]\n",
    "    # arrange the matrix in such a way that each column represents a image\n",
    "    D_matrix_final = np.transpose(D_matrix)\n",
    "    \n",
    "    return D_matrix_final"
   ]
  },
  {
   "cell_type": "markdown",
   "metadata": {},
   "source": [
    "# create D matrix associated with each digit"
   ]
  },
  {
   "cell_type": "code",
   "execution_count": 20,
   "metadata": {},
   "outputs": [
    {
     "name": "stdout",
     "output_type": "stream",
     "text": [
      "0 figure has shape\n",
      "(784L, 5923L)\n",
      "1 figure has shape\n",
      "(784L, 6742L)\n",
      "2 figure has shape\n",
      "(784L, 5958L)\n",
      "3 figure has shape\n",
      "(784L, 6131L)\n",
      "4 figure has shape\n",
      "(784L, 5842L)\n",
      "5 figure has shape\n",
      "(784L, 5421L)\n",
      "6 figure has shape\n",
      "(784L, 5918L)\n",
      "7 figure has shape\n",
      "(784L, 6265L)\n",
      "8 figure has shape\n",
      "(784L, 5851L)\n",
      "9 figure has shape\n",
      "(784L, 5949L)\n",
      "60000\n"
     ]
    }
   ],
   "source": [
    "digittensorlist=[]\n",
    "datamatrix = mytrain\n",
    "labelvector = mytrain_label\n",
    "#namearray = []\n",
    "#for i in range(10):\n",
    "label = 0\n",
    "D0 = digitalmatrix(label,datamatrix,labelvector)  \n",
    "D0_array = np.asarray(D0)\n",
    "print ('0 figure has shape')\n",
    "print (D0_array.shape)\n",
    "label = 1\n",
    "D1 = digitalmatrix(label,datamatrix,labelvector)  \n",
    "D1_array = np.asarray(D1)\n",
    "D1_array.shape\n",
    "print ('1 figure has shape')\n",
    "print (D1_array.shape)\n",
    "label = 2\n",
    "D2 = digitalmatrix(label,datamatrix,labelvector)  \n",
    "D2_array = np.asarray(D2)\n",
    "print ('2 figure has shape')\n",
    "print (D2_array.shape)\n",
    "label = 3\n",
    "D3 = digitalmatrix(label,datamatrix,labelvector)  \n",
    "D3_array = np.asarray(D3)\n",
    "print ('3 figure has shape')\n",
    "print (D3_array.shape)\n",
    "label = 4\n",
    "D4 = digitalmatrix(label,datamatrix,labelvector)  \n",
    "D4_array = np.asarray(D4)\n",
    "print ('4 figure has shape')\n",
    "print (D4_array.shape)\n",
    "label = 5\n",
    "D5 = digitalmatrix(label,datamatrix,labelvector)  \n",
    "D5_array = np.asarray(D5)\n",
    "print ('5 figure has shape')\n",
    "print (D5_array.shape)\n",
    "label = 6\n",
    "D6 = digitalmatrix(label,datamatrix,labelvector)  \n",
    "D6_array = np.asarray(D6)\n",
    "print ('6 figure has shape')\n",
    "print (D6_array.shape)\n",
    "label = 7\n",
    "D7 = digitalmatrix(label,datamatrix,labelvector)  \n",
    "D7_array = np.asarray(D7)\n",
    "print ('7 figure has shape')\n",
    "print (D7_array.shape)\n",
    "#digittensorlist.append(digitalmatrixname)\n",
    "label = 8\n",
    "D8 = digitalmatrix(label,datamatrix,labelvector)  \n",
    "D8_array = np.asarray(D8)\n",
    "print ('8 figure has shape')\n",
    "print (D8_array.shape)\n",
    "label = 9\n",
    "D9 = digitalmatrix(label,datamatrix,labelvector)  \n",
    "D9_array = np.asarray(D9)\n",
    "print ('9 figure has shape')\n",
    "print (D9_array.shape)\n",
    "\n",
    "sum = D0_array.shape[1]+D1_array.shape[1]+D2_array.shape[1]+D3_array.shape[1] \\\n",
    "                      +D4_array.shape[1]+D5_array.shape[1]+D6_array.shape[1]  \\\n",
    "                      +D7_array.shape[1]+D8_array.shape[1]+D9_array.shape[1]\n",
    "print(sum)"
   ]
  },
  {
   "cell_type": "code",
   "execution_count": 21,
   "metadata": {},
   "outputs": [],
   "source": [
    "np.savetxt(\"D0.csv\", D0_array, delimiter=\",\")\n",
    "np.savetxt(\"D1.csv\", D1_array, delimiter=\",\")\n",
    "np.savetxt(\"D2.csv\", D2_array, delimiter=\",\")\n",
    "np.savetxt(\"D3.csv\", D3_array, delimiter=\",\")\n",
    "np.savetxt(\"D4.csv\", D4_array, delimiter=\",\")\n",
    "np.savetxt(\"D5.csv\", D5_array, delimiter=\",\")\n",
    "np.savetxt(\"D6.csv\", D6_array, delimiter=\",\")\n",
    "np.savetxt(\"D7.csv\", D7_array, delimiter=\",\")\n",
    "np.savetxt(\"D8.csv\", D8_array, delimiter=\",\")\n",
    "np.savetxt(\"D9.csv\", D9_array, delimiter=\",\")"
   ]
  },
  {
   "cell_type": "markdown",
   "metadata": {},
   "source": [
    "# SVD algorithm to classify the test set"
   ]
  },
  {
   "cell_type": "code",
   "execution_count": 22,
   "metadata": {},
   "outputs": [],
   "source": [
    "U0, s0, V0 = np.linalg.svd(D0_array, full_matrices=True)\n",
    "U1, s1, V1 = np.linalg.svd(D1_array, full_matrices=True)\n",
    "U2, s2, V2 = np.linalg.svd(D2_array, full_matrices=True)\n",
    "U3, s3, V3 = np.linalg.svd(D3_array, full_matrices=True)\n",
    "U4, s4, V4 = np.linalg.svd(D4_array, full_matrices=True)\n",
    "U5, s5, V5 = np.linalg.svd(D5_array, full_matrices=True)\n",
    "U6, s6, V6 = np.linalg.svd(D6_array, full_matrices=True)\n",
    "U7, s7, V7 = np.linalg.svd(D7_array, full_matrices=True)\n",
    "U8, s8, V8 = np.linalg.svd(D8_array, full_matrices=True)\n",
    "U9, s9, V9 = np.linalg.svd(D9_array, full_matrices=True)"
   ]
  },
  {
   "cell_type": "code",
   "execution_count": 23,
   "metadata": {},
   "outputs": [
    {
     "data": {
      "text/plain": [
       "(784L, 784L)"
      ]
     },
     "execution_count": 23,
     "metadata": {},
     "output_type": "execute_result"
    }
   ],
   "source": [
    "U9.shape"
   ]
  },
  {
   "cell_type": "code",
   "execution_count": 24,
   "metadata": {},
   "outputs": [],
   "source": [
    "np.savetxt(\"SVD_U0.csv\", U0, delimiter=\",\")\n",
    "np.savetxt(\"SVD_U1.csv\", U1, delimiter=\",\")\n",
    "np.savetxt(\"SVD_U2.csv\", U2, delimiter=\",\")\n",
    "np.savetxt(\"SVD_U3.csv\", U3, delimiter=\",\")\n",
    "np.savetxt(\"SVD_U4.csv\", U4, delimiter=\",\")\n",
    "np.savetxt(\"SVD_U5.csv\", U5, delimiter=\",\")\n",
    "np.savetxt(\"SVD_U6.csv\", U6, delimiter=\",\")\n",
    "np.savetxt(\"SVD_U7.csv\", U7, delimiter=\",\")\n",
    "np.savetxt(\"SVD_U8.csv\", U8, delimiter=\",\")\n",
    "np.savetxt(\"SVD_U9.csv\", U9, delimiter=\",\")"
   ]
  }
 ],
 "metadata": {
  "kernelspec": {
   "display_name": "Python 2",
   "language": "python",
   "name": "python2"
  },
  "language_info": {
   "codemirror_mode": {
    "name": "ipython",
    "version": 2
   },
   "file_extension": ".py",
   "mimetype": "text/x-python",
   "name": "python",
   "nbconvert_exporter": "python",
   "pygments_lexer": "ipython2",
   "version": "2.7.15"
  }
 },
 "nbformat": 4,
 "nbformat_minor": 2
}
